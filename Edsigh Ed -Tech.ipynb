{
 "cells": [
  {
   "cell_type": "markdown",
   "id": "8f483dcc",
   "metadata": {},
   "source": [
    "####Edsigh Ed-Tech is a company with the primary goal to make education accessible and affordable to anyone with an internet connection. Teachers create and publish their courses on the platform, and students can enroll based on their interests and learning goals. \n",
    "\n",
    "PROBLEM OVERVIEW\n",
    "\n",
    "The Director of Edsigh Ed-Tech contacted my team of Data Scientists because they are interested in leveraging the power of their data to gain insights into the business and improve their efficiency.\n",
    "\n",
    "In analyzing this data we will seek to understand the performance of each course offered by their establishment and uncover where potential opportunities to increase business revenue lie\n"
   ]
  },
  {
   "cell_type": "code",
   "execution_count": 1,
   "id": "7ed62198",
   "metadata": {},
   "outputs": [],
   "source": [
    "#Data Analysis\n",
    "\n",
    "import pandas as pd\n",
    "import numpy as np\n",
    "\n",
    "#Data Visualization\n",
    "\n",
    "import seaborn as sns\n",
    "import matplotlib.pyplot as plt\n",
    "\n",
    "\n",
    "import warnings\n",
    "warnings.filterwarnings(\"ignore\")\n"
   ]
  },
  {
   "cell_type": "code",
   "execution_count": 56,
   "id": "f021e095",
   "metadata": {},
   "outputs": [
    {
     "data": {
      "text/html": [
       "<div>\n",
       "<style scoped>\n",
       "    .dataframe tbody tr th:only-of-type {\n",
       "        vertical-align: middle;\n",
       "    }\n",
       "\n",
       "    .dataframe tbody tr th {\n",
       "        vertical-align: top;\n",
       "    }\n",
       "\n",
       "    .dataframe thead th {\n",
       "        text-align: right;\n",
       "    }\n",
       "</style>\n",
       "<table border=\"1\" class=\"dataframe\">\n",
       "  <thead>\n",
       "    <tr style=\"text-align: right;\">\n",
       "      <th></th>\n",
       "      <th>Course_ID</th>\n",
       "      <th>Num_Subscribers</th>\n",
       "      <th>Course_Title</th>\n",
       "      <th>Price</th>\n",
       "      <th>Num_Review</th>\n",
       "      <th>Num_Lectures</th>\n",
       "      <th>Level</th>\n",
       "      <th>Rating</th>\n",
       "      <th>Content_Duration</th>\n",
       "      <th>Published_Timestamp</th>\n",
       "      <th>Subject</th>\n",
       "      <th>Date_Published</th>\n",
       "      <th>Course_Type</th>\n",
       "    </tr>\n",
       "  </thead>\n",
       "  <tbody>\n",
       "    <tr>\n",
       "      <th>0</th>\n",
       "      <td>49798</td>\n",
       "      <td>65576</td>\n",
       "      <td>Bitcoin or How I Learned to Stop Worrying and ...</td>\n",
       "      <td>0</td>\n",
       "      <td>936</td>\n",
       "      <td>24</td>\n",
       "      <td>All Levels</td>\n",
       "      <td>0.56</td>\n",
       "      <td>8.0</td>\n",
       "      <td>2013-04-20T02:25:22Z</td>\n",
       "      <td>Business Finance</td>\n",
       "      <td>4/20/2013</td>\n",
       "      <td>Free</td>\n",
       "    </tr>\n",
       "    <tr>\n",
       "      <th>1</th>\n",
       "      <td>48841</td>\n",
       "      <td>56659</td>\n",
       "      <td>Accounting in 60 Minutes - A Brief Introduction</td>\n",
       "      <td>0</td>\n",
       "      <td>4397</td>\n",
       "      <td>16</td>\n",
       "      <td>Beginner Level</td>\n",
       "      <td>0.95</td>\n",
       "      <td>1.5</td>\n",
       "      <td>2013-04-07T21:39:25Z</td>\n",
       "      <td>Business Finance</td>\n",
       "      <td>4/7/2013</td>\n",
       "      <td>Free</td>\n",
       "    </tr>\n",
       "    <tr>\n",
       "      <th>2</th>\n",
       "      <td>133536</td>\n",
       "      <td>50855</td>\n",
       "      <td>Stock Market Investing for Beginners</td>\n",
       "      <td>0</td>\n",
       "      <td>2698</td>\n",
       "      <td>15</td>\n",
       "      <td>All Levels</td>\n",
       "      <td>0.91</td>\n",
       "      <td>1.5</td>\n",
       "      <td>2013-12-25T19:53:34Z</td>\n",
       "      <td>Business Finance</td>\n",
       "      <td>12/25/2013</td>\n",
       "      <td>Free</td>\n",
       "    </tr>\n",
       "    <tr>\n",
       "      <th>3</th>\n",
       "      <td>151668</td>\n",
       "      <td>29167</td>\n",
       "      <td>Introduction to Financial Modeling</td>\n",
       "      <td>0</td>\n",
       "      <td>1463</td>\n",
       "      <td>8</td>\n",
       "      <td>All Levels</td>\n",
       "      <td>0.18</td>\n",
       "      <td>1.5</td>\n",
       "      <td>2014-05-27T16:22:16Z</td>\n",
       "      <td>Business Finance</td>\n",
       "      <td>5/27/2014</td>\n",
       "      <td>Free</td>\n",
       "    </tr>\n",
       "    <tr>\n",
       "      <th>4</th>\n",
       "      <td>648826</td>\n",
       "      <td>24481</td>\n",
       "      <td>The Complete Financial Analyst Course 2017</td>\n",
       "      <td>195</td>\n",
       "      <td>2347</td>\n",
       "      <td>174</td>\n",
       "      <td>All Levels</td>\n",
       "      <td>0.37</td>\n",
       "      <td>10.0</td>\n",
       "      <td>2016-01-21T01:38:48Z</td>\n",
       "      <td>Business Finance</td>\n",
       "      <td>1/21/2016</td>\n",
       "      <td>Paid</td>\n",
       "    </tr>\n",
       "  </tbody>\n",
       "</table>\n",
       "</div>"
      ],
      "text/plain": [
       "   Course_ID  Num_Subscribers  \\\n",
       "0      49798            65576   \n",
       "1      48841            56659   \n",
       "2     133536            50855   \n",
       "3     151668            29167   \n",
       "4     648826            24481   \n",
       "\n",
       "                                        Course_Title  Price  Num_Review  \\\n",
       "0  Bitcoin or How I Learned to Stop Worrying and ...      0         936   \n",
       "1    Accounting in 60 Minutes - A Brief Introduction      0        4397   \n",
       "2               Stock Market Investing for Beginners      0        2698   \n",
       "3                 Introduction to Financial Modeling      0        1463   \n",
       "4         The Complete Financial Analyst Course 2017    195        2347   \n",
       "\n",
       "   Num_Lectures           Level  Rating  Content_Duration  \\\n",
       "0            24      All Levels    0.56               8.0   \n",
       "1            16  Beginner Level    0.95               1.5   \n",
       "2            15      All Levels    0.91               1.5   \n",
       "3             8      All Levels    0.18               1.5   \n",
       "4           174      All Levels    0.37              10.0   \n",
       "\n",
       "    Published_Timestamp           Subject Date_Published Course_Type  \n",
       "0  2013-04-20T02:25:22Z  Business Finance      4/20/2013        Free  \n",
       "1  2013-04-07T21:39:25Z  Business Finance       4/7/2013        Free  \n",
       "2  2013-12-25T19:53:34Z  Business Finance     12/25/2013        Free  \n",
       "3  2014-05-27T16:22:16Z  Business Finance      5/27/2014        Free  \n",
       "4  2016-01-21T01:38:48Z  Business Finance      1/21/2016        Paid  "
      ]
     },
     "execution_count": 56,
     "metadata": {},
     "output_type": "execute_result"
    }
   ],
   "source": [
    "#Load data file \n",
    "df = pd.read_csv(R\"C:\\Users\\Ezinne Osaji\\Downloads\\EdSigh Ed-Tech.csv\")\n",
    "df.head()"
   ]
  },
  {
   "cell_type": "code",
   "execution_count": 3,
   "id": "68947eff",
   "metadata": {},
   "outputs": [
    {
     "name": "stdout",
     "output_type": "stream",
     "text": [
      "<class 'pandas.core.frame.DataFrame'>\n",
      "RangeIndex: 3676 entries, 0 to 3675\n",
      "Data columns (total 13 columns):\n",
      " #   Column               Non-Null Count  Dtype  \n",
      "---  ------               --------------  -----  \n",
      " 0   Course_ID            3676 non-null   int64  \n",
      " 1   Num_Subscribers      3676 non-null   int64  \n",
      " 2   Course_Title         3676 non-null   object \n",
      " 3   Price                3676 non-null   int64  \n",
      " 4   Num_Review           3676 non-null   int64  \n",
      " 5   Num_Lectures         3676 non-null   int64  \n",
      " 6   Level                3676 non-null   object \n",
      " 7   Rating               3676 non-null   float64\n",
      " 8   Content_Duration     3676 non-null   float64\n",
      " 9   Published_Timestamp  3676 non-null   object \n",
      " 10  Subject              3676 non-null   object \n",
      " 11  Date_Published       3676 non-null   object \n",
      " 12  Course_Type          3676 non-null   object \n",
      "dtypes: float64(2), int64(5), object(6)\n",
      "memory usage: 373.5+ KB\n"
     ]
    }
   ],
   "source": [
    "# Data Varification- Data type, number of features and rows, missing data etc\n",
    "df.info()\n"
   ]
  },
  {
   "cell_type": "code",
   "execution_count": 4,
   "id": "7edec9df",
   "metadata": {},
   "outputs": [
    {
     "data": {
      "text/html": [
       "<div>\n",
       "<style scoped>\n",
       "    .dataframe tbody tr th:only-of-type {\n",
       "        vertical-align: middle;\n",
       "    }\n",
       "\n",
       "    .dataframe tbody tr th {\n",
       "        vertical-align: top;\n",
       "    }\n",
       "\n",
       "    .dataframe thead th {\n",
       "        text-align: right;\n",
       "    }\n",
       "</style>\n",
       "<table border=\"1\" class=\"dataframe\">\n",
       "  <thead>\n",
       "    <tr style=\"text-align: right;\">\n",
       "      <th></th>\n",
       "      <th>Course_ID</th>\n",
       "      <th>Num_Subscribers</th>\n",
       "      <th>Price</th>\n",
       "      <th>Num_Review</th>\n",
       "      <th>Num_Lectures</th>\n",
       "      <th>Rating</th>\n",
       "      <th>Content_Duration</th>\n",
       "    </tr>\n",
       "  </thead>\n",
       "  <tbody>\n",
       "    <tr>\n",
       "      <th>count</th>\n",
       "      <td>3.676000e+03</td>\n",
       "      <td>3676.000000</td>\n",
       "      <td>3676.000000</td>\n",
       "      <td>3676.000000</td>\n",
       "      <td>3676.000000</td>\n",
       "      <td>3676.000000</td>\n",
       "      <td>3676.000000</td>\n",
       "    </tr>\n",
       "    <tr>\n",
       "      <th>mean</th>\n",
       "      <td>6.757535e+05</td>\n",
       "      <td>3199.260881</td>\n",
       "      <td>66.115343</td>\n",
       "      <td>156.309848</td>\n",
       "      <td>40.129761</td>\n",
       "      <td>0.610868</td>\n",
       "      <td>4.096137</td>\n",
       "    </tr>\n",
       "    <tr>\n",
       "      <th>std</th>\n",
       "      <td>3.431304e+05</td>\n",
       "      <td>9486.582966</td>\n",
       "      <td>61.056073</td>\n",
       "      <td>935.674518</td>\n",
       "      <td>50.398507</td>\n",
       "      <td>0.334287</td>\n",
       "      <td>6.054948</td>\n",
       "    </tr>\n",
       "    <tr>\n",
       "      <th>min</th>\n",
       "      <td>8.324000e+03</td>\n",
       "      <td>0.000000</td>\n",
       "      <td>0.000000</td>\n",
       "      <td>0.000000</td>\n",
       "      <td>0.000000</td>\n",
       "      <td>0.000000</td>\n",
       "      <td>0.000000</td>\n",
       "    </tr>\n",
       "    <tr>\n",
       "      <th>25%</th>\n",
       "      <td>4.074740e+05</td>\n",
       "      <td>112.000000</td>\n",
       "      <td>20.000000</td>\n",
       "      <td>4.000000</td>\n",
       "      <td>15.000000</td>\n",
       "      <td>0.280000</td>\n",
       "      <td>1.000000</td>\n",
       "    </tr>\n",
       "    <tr>\n",
       "      <th>50%</th>\n",
       "      <td>6.876920e+05</td>\n",
       "      <td>912.500000</td>\n",
       "      <td>45.000000</td>\n",
       "      <td>18.000000</td>\n",
       "      <td>25.000000</td>\n",
       "      <td>0.760000</td>\n",
       "      <td>2.000000</td>\n",
       "    </tr>\n",
       "    <tr>\n",
       "      <th>75%</th>\n",
       "      <td>9.608140e+05</td>\n",
       "      <td>2558.000000</td>\n",
       "      <td>95.000000</td>\n",
       "      <td>67.000000</td>\n",
       "      <td>46.000000</td>\n",
       "      <td>0.930000</td>\n",
       "      <td>4.500000</td>\n",
       "    </tr>\n",
       "    <tr>\n",
       "      <th>max</th>\n",
       "      <td>1.282064e+06</td>\n",
       "      <td>268923.000000</td>\n",
       "      <td>200.000000</td>\n",
       "      <td>27445.000000</td>\n",
       "      <td>779.000000</td>\n",
       "      <td>1.000000</td>\n",
       "      <td>78.500000</td>\n",
       "    </tr>\n",
       "  </tbody>\n",
       "</table>\n",
       "</div>"
      ],
      "text/plain": [
       "          Course_ID  Num_Subscribers        Price    Num_Review  Num_Lectures  \\\n",
       "count  3.676000e+03      3676.000000  3676.000000   3676.000000   3676.000000   \n",
       "mean   6.757535e+05      3199.260881    66.115343    156.309848     40.129761   \n",
       "std    3.431304e+05      9486.582966    61.056073    935.674518     50.398507   \n",
       "min    8.324000e+03         0.000000     0.000000      0.000000      0.000000   \n",
       "25%    4.074740e+05       112.000000    20.000000      4.000000     15.000000   \n",
       "50%    6.876920e+05       912.500000    45.000000     18.000000     25.000000   \n",
       "75%    9.608140e+05      2558.000000    95.000000     67.000000     46.000000   \n",
       "max    1.282064e+06    268923.000000   200.000000  27445.000000    779.000000   \n",
       "\n",
       "            Rating  Content_Duration  \n",
       "count  3676.000000       3676.000000  \n",
       "mean      0.610868          4.096137  \n",
       "std       0.334287          6.054948  \n",
       "min       0.000000          0.000000  \n",
       "25%       0.280000          1.000000  \n",
       "50%       0.760000          2.000000  \n",
       "75%       0.930000          4.500000  \n",
       "max       1.000000         78.500000  "
      ]
     },
     "execution_count": 4,
     "metadata": {},
     "output_type": "execute_result"
    }
   ],
   "source": [
    "# Statistical Analysis of the data\n",
    "df.describe()"
   ]
  },
  {
   "cell_type": "code",
   "execution_count": 5,
   "id": "377d538f",
   "metadata": {},
   "outputs": [
    {
     "data": {
      "text/plain": [
       "0       False\n",
       "1       False\n",
       "2       False\n",
       "3       False\n",
       "4       False\n",
       "        ...  \n",
       "3671    False\n",
       "3672    False\n",
       "3673    False\n",
       "3674    False\n",
       "3675    False\n",
       "Length: 3676, dtype: bool"
      ]
     },
     "execution_count": 5,
     "metadata": {},
     "output_type": "execute_result"
    }
   ],
   "source": [
    "df.duplicated()"
   ]
  },
  {
   "cell_type": "code",
   "execution_count": 6,
   "id": "44ba50a3",
   "metadata": {},
   "outputs": [
    {
     "name": "stdout",
     "output_type": "stream",
     "text": [
      "Course_ID              0\n",
      "Num_Subscribers        0\n",
      "Course_Title           0\n",
      "Price                  0\n",
      "Num_Review             0\n",
      "Num_Lectures           0\n",
      "Level                  0\n",
      "Rating                 0\n",
      "Content_Duration       0\n",
      "Published_Timestamp    0\n",
      "Subject                0\n",
      "Date_Published         0\n",
      "Course_Type            0\n",
      "dtype: int64\n"
     ]
    }
   ],
   "source": [
    "#check for missing value\n",
    "print(df.isnull(). sum())"
   ]
  },
  {
   "cell_type": "code",
   "execution_count": 57,
   "id": "aa3379f8",
   "metadata": {},
   "outputs": [
    {
     "data": {
      "text/html": [
       "<div>\n",
       "<style scoped>\n",
       "    .dataframe tbody tr th:only-of-type {\n",
       "        vertical-align: middle;\n",
       "    }\n",
       "\n",
       "    .dataframe tbody tr th {\n",
       "        vertical-align: top;\n",
       "    }\n",
       "\n",
       "    .dataframe thead th {\n",
       "        text-align: right;\n",
       "    }\n",
       "</style>\n",
       "<table border=\"1\" class=\"dataframe\">\n",
       "  <thead>\n",
       "    <tr style=\"text-align: right;\">\n",
       "      <th></th>\n",
       "      <th>Course_ID</th>\n",
       "      <th>Num_Subscribers</th>\n",
       "      <th>Course_Title</th>\n",
       "      <th>Price</th>\n",
       "      <th>Num_Review</th>\n",
       "      <th>Num_Lectures</th>\n",
       "      <th>Level</th>\n",
       "      <th>Rating</th>\n",
       "      <th>Content_Duration</th>\n",
       "      <th>Published_Timestamp</th>\n",
       "      <th>Subject</th>\n",
       "      <th>Date_Published</th>\n",
       "      <th>Course_Type</th>\n",
       "      <th>Day</th>\n",
       "      <th>Month</th>\n",
       "      <th>Year</th>\n",
       "      <th>Month_Name</th>\n",
       "    </tr>\n",
       "  </thead>\n",
       "  <tbody>\n",
       "    <tr>\n",
       "      <th>0</th>\n",
       "      <td>49798</td>\n",
       "      <td>65576</td>\n",
       "      <td>Bitcoin or How I Learned to Stop Worrying and ...</td>\n",
       "      <td>0</td>\n",
       "      <td>936</td>\n",
       "      <td>24</td>\n",
       "      <td>All Levels</td>\n",
       "      <td>0.56</td>\n",
       "      <td>8.0</td>\n",
       "      <td>2013-04-20T02:25:22Z</td>\n",
       "      <td>Business Finance</td>\n",
       "      <td>2013-04-20</td>\n",
       "      <td>Free</td>\n",
       "      <td>20</td>\n",
       "      <td>4</td>\n",
       "      <td>2013</td>\n",
       "      <td>April</td>\n",
       "    </tr>\n",
       "  </tbody>\n",
       "</table>\n",
       "</div>"
      ],
      "text/plain": [
       "   Course_ID  Num_Subscribers  \\\n",
       "0      49798            65576   \n",
       "\n",
       "                                        Course_Title  Price  Num_Review  \\\n",
       "0  Bitcoin or How I Learned to Stop Worrying and ...      0         936   \n",
       "\n",
       "   Num_Lectures       Level  Rating  Content_Duration   Published_Timestamp  \\\n",
       "0            24  All Levels    0.56               8.0  2013-04-20T02:25:22Z   \n",
       "\n",
       "            Subject Date_Published Course_Type  Day  Month  Year Month_Name  \n",
       "0  Business Finance     2013-04-20        Free   20      4  2013      April  "
      ]
     },
     "execution_count": 57,
     "metadata": {},
     "output_type": "execute_result"
    }
   ],
   "source": [
    "#Exploratory Analysis and Data cleaning\n",
    "# Separating the Day, month and year Published to different columns\n",
    "df[\"Date_Published\"]=pd.to_datetime(df[\"Date_Published\"])\n",
    "#df[\"month\"]=df[\"date_of_Order\"]\".dt.month\"\n",
    "df[\"Day\"]=df[\"Date_Published\"].dt.day\n",
    "df[\"Month\"]=df[\"Date_Published\"].dt.month\n",
    "df[\"Year\"]=df[\"Date_Published\"].dt.year\n",
    "df[\"Month_Name\"]=df[\"Date_Published\"].dt.month_name()\n",
    "df.head(1)\n"
   ]
  },
  {
   "cell_type": "code",
   "execution_count": 58,
   "id": "fd3408e5",
   "metadata": {},
   "outputs": [
    {
     "data": {
      "text/html": [
       "<div>\n",
       "<style scoped>\n",
       "    .dataframe tbody tr th:only-of-type {\n",
       "        vertical-align: middle;\n",
       "    }\n",
       "\n",
       "    .dataframe tbody tr th {\n",
       "        vertical-align: top;\n",
       "    }\n",
       "\n",
       "    .dataframe thead th {\n",
       "        text-align: right;\n",
       "    }\n",
       "</style>\n",
       "<table border=\"1\" class=\"dataframe\">\n",
       "  <thead>\n",
       "    <tr style=\"text-align: right;\">\n",
       "      <th></th>\n",
       "      <th>Course_ID</th>\n",
       "      <th>Num_Subscribers</th>\n",
       "      <th>Course_Title</th>\n",
       "      <th>Price</th>\n",
       "      <th>Num_Review</th>\n",
       "      <th>Num_Lectures</th>\n",
       "      <th>Level</th>\n",
       "      <th>Rating</th>\n",
       "      <th>Content_Duration</th>\n",
       "      <th>Published_Timestamp</th>\n",
       "      <th>Subject</th>\n",
       "      <th>Date_Published</th>\n",
       "      <th>Course_Type</th>\n",
       "      <th>Day</th>\n",
       "      <th>Month</th>\n",
       "      <th>Year</th>\n",
       "      <th>Month_Name</th>\n",
       "      <th>Date</th>\n",
       "      <th>Timestamp</th>\n",
       "    </tr>\n",
       "  </thead>\n",
       "  <tbody>\n",
       "    <tr>\n",
       "      <th>0</th>\n",
       "      <td>49798</td>\n",
       "      <td>65576</td>\n",
       "      <td>Bitcoin or How I Learned to Stop Worrying and ...</td>\n",
       "      <td>0</td>\n",
       "      <td>936</td>\n",
       "      <td>24</td>\n",
       "      <td>All Levels</td>\n",
       "      <td>0.56</td>\n",
       "      <td>8.0</td>\n",
       "      <td>2013-04-20 02:25:22+00:00</td>\n",
       "      <td>Business Finance</td>\n",
       "      <td>2013-04-20</td>\n",
       "      <td>Free</td>\n",
       "      <td>20</td>\n",
       "      <td>4</td>\n",
       "      <td>2013</td>\n",
       "      <td>April</td>\n",
       "      <td>2013-04-20</td>\n",
       "      <td>02:25:22</td>\n",
       "    </tr>\n",
       "  </tbody>\n",
       "</table>\n",
       "</div>"
      ],
      "text/plain": [
       "   Course_ID  Num_Subscribers  \\\n",
       "0      49798            65576   \n",
       "\n",
       "                                        Course_Title  Price  Num_Review  \\\n",
       "0  Bitcoin or How I Learned to Stop Worrying and ...      0         936   \n",
       "\n",
       "   Num_Lectures       Level  Rating  Content_Duration  \\\n",
       "0            24  All Levels    0.56               8.0   \n",
       "\n",
       "        Published_Timestamp           Subject Date_Published Course_Type  Day  \\\n",
       "0 2013-04-20 02:25:22+00:00  Business Finance     2013-04-20        Free   20   \n",
       "\n",
       "   Month  Year Month_Name        Date Timestamp  \n",
       "0      4  2013      April  2013-04-20  02:25:22  "
      ]
     },
     "execution_count": 58,
     "metadata": {},
     "output_type": "execute_result"
    }
   ],
   "source": [
    "from datetime import datetime\n",
    "#Separating time from date on the \"Published_Timestamped Column\"\n",
    "df[\"Published_Timestamp\"]=pd.to_datetime(df[\"Published_Timestamp\"])\n",
    "df[\"Date\"]=df[\"Published_Timestamp\"].dt.date\n",
    "df[\"Timestamp\"]=df[\"Published_Timestamp\"].dt.time\n",
    "df.head(1)"
   ]
  },
  {
   "cell_type": "code",
   "execution_count": 3,
   "id": "f44be5d4",
   "metadata": {},
   "outputs": [
    {
     "data": {
      "text/plain": [
       "Index(['Course_ID', 'Num_Subscribers', 'Course_Title', 'Price', 'Num_Review',\n",
       "       'Num_Lectures', 'Level', 'Rating', 'Content_Duration',\n",
       "       'Published_Timestamp', 'Subject', 'Date_Published', 'Course_Type'],\n",
       "      dtype='object')"
      ]
     },
     "execution_count": 3,
     "metadata": {},
     "output_type": "execute_result"
    }
   ],
   "source": [
    "\n",
    "#Univariate Analysis- looking at each column to understand the data\n",
    "df.columns"
   ]
  },
  {
   "cell_type": "code",
   "execution_count": 4,
   "id": "dfcd91aa",
   "metadata": {},
   "outputs": [
    {
     "data": {
      "text/plain": [
       "<AxesSubplot:xlabel='Price'>"
      ]
     },
     "execution_count": 4,
     "metadata": {},
     "output_type": "execute_result"
    },
    {
     "data": {
      "image/png": "[encoded data removed]",
      "text/plain": [
       "<Figure size 640x480 with 1 Axes>"
      ]
     },
     "metadata": {},
     "output_type": "display_data"
    }
   ],
   "source": [
    "#Check for Outliners\n",
    "# Insight on price\n",
    "sns.boxplot(x=df[\"Price\"])"
   ]
  },
  {
   "cell_type": "markdown",
   "id": "1c9790a0",
   "metadata": {},
   "source": [
    "This indicates the course prices ranges between USD 0-200.With most course price averaging USD 45"
   ]
  },
  {
   "cell_type": "code",
   "execution_count": 8,
   "id": "bb8aca29",
   "metadata": {},
   "outputs": [
    {
     "data": {
      "text/plain": [
       "<AxesSubplot:xlabel='Content_Duration'>"
      ]
     },
     "execution_count": 8,
     "metadata": {},
     "output_type": "execute_result"
    },
    {
     "data": {
      "image/png": "[encoded data removed]",
      "text/plain": [
       "<Figure size 640x480 with 1 Axes>"
      ]
     },
     "metadata": {},
     "output_type": "display_data"
    }
   ],
   "source": [
    "# insight on the duration of the Course content\n",
    "sns.boxplot(x=\"Content_Duration\",data=df)"
   ]
  },
  {
   "cell_type": "code",
   "execution_count": null,
   "id": "a23b7487",
   "metadata": {},
   "outputs": [],
   "source": [
    "#The indicates that more of the contents are about 1-5hours.\n",
    "#However, there are outliera that indicates that it could be as long as 80hrs."
   ]
  },
  {
   "cell_type": "code",
   "execution_count": 9,
   "id": "ee89fcd9",
   "metadata": {},
   "outputs": [
    {
     "data": {
      "text/plain": [
       "<AxesSubplot:xlabel='Num_Lectures'>"
      ]
     },
     "execution_count": 9,
     "metadata": {},
     "output_type": "execute_result"
    },
    {
     "data": {
      "image/png": "[encoded data removed]",
      "text/plain": [
       "<Figure size 2000x500 with 1 Axes>"
      ]
     },
     "metadata": {},
     "output_type": "display_data"
    }
   ],
   "source": [
    "#investigating the Number of Lectures\n",
    "plt.figure(figsize=(20,5))\n",
    "sns.boxplot(x=\"Num_Lectures\",data=df)\n"
   ]
  },
  {
   "cell_type": "markdown",
   "id": "b239e85e",
   "metadata": {},
   "source": [
    "#This indicates numbers of lectures are mostly within 50 lectures per course. However, there are alot of outliners that shows the lectures can be longer to about 550 for course"
   ]
  },
  {
   "cell_type": "code",
   "execution_count": 10,
   "id": "8a23d784",
   "metadata": {},
   "outputs": [
    {
     "data": {
      "text/plain": [
       "<AxesSubplot:xlabel='Num_Subscribers'>"
      ]
     },
     "execution_count": 10,
     "metadata": {},
     "output_type": "execute_result"
    },
    {
     "data": {
      "image/png": "[encoded data removed]",
      "text/plain": [
       "<Figure size 2000x500 with 1 Axes>"
      ]
     },
     "metadata": {},
     "output_type": "display_data"
    }
   ],
   "source": [
    "#investigating the Number of Subscribers\n",
    "#plt.figure(figsize=(20,5))\n",
    "sns.boxplot(x=\"Num_Subscribers\",data=df)"
   ]
  },
  {
   "cell_type": "markdown",
   "id": "86ad5999",
   "metadata": {},
   "source": [
    "#This indicates that the number of subscribers  are mostly within 0-3200.\n",
    "#The outliers shows an occational increase to about 300000 "
   ]
  },
  {
   "cell_type": "code",
   "execution_count": 11,
   "id": "f0999df5",
   "metadata": {},
   "outputs": [
    {
     "data": {
      "text/plain": [
       "<AxesSubplot:xlabel='Num_Review'>"
      ]
     },
     "execution_count": 11,
     "metadata": {},
     "output_type": "execute_result"
    },
    {
     "data": {
      "image/png": "[encoded data removed]",
      "text/plain": [
       "<Figure size 640x480 with 1 Axes>"
      ]
     },
     "metadata": {},
     "output_type": "display_data"
    }
   ],
   "source": [
    "#Investigating the Number of Reviews\n",
    "sns.boxplot(x=df[\"Num_Review\"])"
   ]
  },
  {
   "cell_type": "markdown",
   "id": "f0b26154",
   "metadata": {},
   "source": [
    "#This indicated very few reviews on the courses because most of the data are represented by outliers"
   ]
  },
  {
   "cell_type": "code",
   "execution_count": 12,
   "id": "0e36dc11",
   "metadata": {},
   "outputs": [
    {
     "data": {
      "text/plain": [
       "<AxesSubplot:xlabel='Rating'>"
      ]
     },
     "execution_count": 12,
     "metadata": {},
     "output_type": "execute_result"
    },
    {
     "data": {
      "image/png": "[encoded data removed]",
      "text/plain": [
       "<Figure size 640x480 with 1 Axes>"
      ]
     },
     "metadata": {},
     "output_type": "display_data"
    }
   ],
   "source": [
    "Investigationg the Ratings of the Course\n",
    "sns.boxplot(x=\"Rating\",data=df)\n"
   ]
  },
  {
   "cell_type": "code",
   "execution_count": null,
   "id": "d7419d2a",
   "metadata": {},
   "outputs": [],
   "source": [
    " #This indicates that ratings are between 0-1 with most of the courses rated between 0.3-0.9"
   ]
  },
  {
   "cell_type": "code",
   "execution_count": 13,
   "id": "c4c32935",
   "metadata": {},
   "outputs": [
    {
     "data": {
      "text/plain": [
       "<AxesSubplot:xlabel='Price', ylabel='Subject'>"
      ]
     },
     "execution_count": 13,
     "metadata": {},
     "output_type": "execute_result"
    },
    {
     "data": {
      "image/png": "[encoded data removed]",
      "text/plain": [
       "<Figure size 1500x500 with 1 Axes>"
      ]
     },
     "metadata": {},
     "output_type": "display_data"
    }
   ],
   "source": [
    "#Bivariate Analysis\n",
    "#Investigating the Price by Subject\n",
    "plt.figure(figsize=(15,5))\n",
    "sns.barplot(x=\"Price\",y=\"Subject\", data=df)\n"
   ]
  },
  {
   "cell_type": "code",
   "execution_count": null,
   "id": "120abb4a",
   "metadata": {},
   "outputs": [],
   "source": [
    "# This shows that the price by subject is highest in Web Development compared to the other three."
   ]
  },
  {
   "cell_type": "code",
   "execution_count": 14,
   "id": "3d246854",
   "metadata": {},
   "outputs": [
    {
     "data": {
      "text/plain": [
       "<Figure size 1000x1500 with 0 Axes>"
      ]
     },
     "execution_count": 14,
     "metadata": {},
     "output_type": "execute_result"
    },
    {
     "data": {
      "image/png": "[encoded data removed]",
      "text/plain": [
       "<Figure size 640x480 with 1 Axes>"
      ]
     },
     "metadata": {},
     "output_type": "display_data"
    },
    {
     "data": {
      "text/plain": [
       "<Figure size 1000x1500 with 0 Axes>"
      ]
     },
     "metadata": {},
     "output_type": "display_data"
    }
   ],
   "source": [
    "#Investigating Price by Number of subscribers\n",
    "sns.scatterplot(x=\"Price\",y=\"Num_Subscribers\", data=df)\n",
    "plt.figure(figsize=(10,15))\n"
   ]
  },
  {
   "cell_type": "markdown",
   "id": "4489baf2",
   "metadata": {},
   "source": [
    "#This indicates that the number of subscibers by price is very low"
   ]
  },
  {
   "cell_type": "code",
   "execution_count": 15,
   "id": "e52aeded",
   "metadata": {},
   "outputs": [
    {
     "data": {
      "text/plain": [
       "<AxesSubplot:xlabel='Num_Subscribers', ylabel='Subject'>"
      ]
     },
     "execution_count": 15,
     "metadata": {},
     "output_type": "execute_result"
    },
    {
     "data": {
      "image/png": "[encoded data removed]",
      "text/plain": [
       "<Figure size 640x480 with 1 Axes>"
      ]
     },
     "metadata": {},
     "output_type": "display_data"
    }
   ],
   "source": [
    "#investigation Numbers of Subscribers by Subjects\n",
    "sns.barplot(x=\"Num_Subscribers\", y=\"Subject\",data=df)"
   ]
  },
  {
   "cell_type": "markdown",
   "id": "cb060b11",
   "metadata": {},
   "source": [
    "#This indicates that Web Development is the most subscribed Subject"
   ]
  },
  {
   "cell_type": "code",
   "execution_count": 16,
   "id": "315898ef",
   "metadata": {},
   "outputs": [
    {
     "data": {
      "text/plain": [
       "<AxesSubplot:xlabel='Rating', ylabel='Subject'>"
      ]
     },
     "execution_count": 16,
     "metadata": {},
     "output_type": "execute_result"
    },
    {
     "data": {
      "image/png": "[encoded data removed]",
      "text/plain": [
       "<Figure size 640x480 with 1 Axes>"
      ]
     },
     "metadata": {},
     "output_type": "display_data"
    }
   ],
   "source": [
    "#investigating ratings by Subjects\n",
    "sns.barplot(x=\"Rating\", y=\"Subject\",data=df)\n"
   ]
  },
  {
   "cell_type": "code",
   "execution_count": null,
   "id": "f6527036",
   "metadata": {},
   "outputs": [],
   "source": [
    " #This indicates that Graphic Design has the highest reviews"
   ]
  },
  {
   "cell_type": "code",
   "execution_count": 17,
   "id": "e4fe8e00",
   "metadata": {},
   "outputs": [
    {
     "data": {
      "text/plain": [
       "<AxesSubplot:xlabel='Rating', ylabel='Course_Type'>"
      ]
     },
     "execution_count": 17,
     "metadata": {},
     "output_type": "execute_result"
    },
    {
     "data": {
      "image/png": "[encoded data removed]",
      "text/plain": [
       "<Figure size 2000x1000 with 1 Axes>"
      ]
     },
     "metadata": {},
     "output_type": "display_data"
    }
   ],
   "source": [
    "#Investing Ratings by Course Type\n",
    "plt.figure(figsize=(20,10))\n",
    "sns.boxplot(x=\"Rating\", y=\"Course_Type\",data=df)"
   ]
  },
  {
   "cell_type": "code",
   "execution_count": null,
   "id": "03a7c525",
   "metadata": {},
   "outputs": [],
   "source": [
    " #This indicates that the review for both were good. However, paid had more."
   ]
  },
  {
   "cell_type": "code",
   "execution_count": 68,
   "id": "6d0a4063",
   "metadata": {},
   "outputs": [
    {
     "data": {
      "text/plain": [
       "<AxesSubplot:xlabel='Num_Subscribers', ylabel='Course_Type'>"
      ]
     },
     "execution_count": 68,
     "metadata": {},
     "output_type": "execute_result"
    },
    {
     "data": {
      "image/png": "[encoded data removed]",
      "text/plain": [
       "<Figure size 640x480 with 1 Axes>"
      ]
     },
     "metadata": {},
     "output_type": "display_data"
    }
   ],
   "source": [
    "# Investing Numbers of subscribers by Course type\n",
    "sns.barplot(x=\"Num_Subscribers\", y=\"Course_Type\",data=df)"
   ]
  },
  {
   "cell_type": "code",
   "execution_count": null,
   "id": "7e717764",
   "metadata": {},
   "outputs": [],
   "source": [
    "#The inducates that they are more learners subscribed to the free course type than the paid course type"
   ]
  },
  {
   "cell_type": "code",
   "execution_count": 20,
   "id": "329114a2",
   "metadata": {},
   "outputs": [
    {
     "data": {
      "text/plain": [
       "<AxesSubplot:xlabel='Course_Type', ylabel='Num_Review'>"
      ]
     },
     "execution_count": 20,
     "metadata": {},
     "output_type": "execute_result"
    },
    {
     "data": {
      "image/png": "[encoded data removed]",
      "text/plain": [
       "<Figure size 640x480 with 1 Axes>"
      ]
     },
     "metadata": {},
     "output_type": "display_data"
    }
   ],
   "source": [
    "# Investigating Number of Reviews by Course type\n",
    "sns.barplot(y=\"Num_Review\", x=\"Course_Type\",data=df)"
   ]
  },
  {
   "cell_type": "code",
   "execution_count": null,
   "id": "c6c671d1",
   "metadata": {},
   "outputs": [],
   "source": [
    "# When this was compared with the previous chart it show the number of reviews by Course type is way lower that the number of subscribers by course type"
   ]
  },
  {
   "cell_type": "code",
   "execution_count": 21,
   "id": "325391f0",
   "metadata": {},
   "outputs": [
    {
     "data": {
      "text/html": [
       "<div>\n",
       "<style scoped>\n",
       "    .dataframe tbody tr th:only-of-type {\n",
       "        vertical-align: middle;\n",
       "    }\n",
       "\n",
       "    .dataframe tbody tr th {\n",
       "        vertical-align: top;\n",
       "    }\n",
       "\n",
       "    .dataframe thead th {\n",
       "        text-align: right;\n",
       "    }\n",
       "</style>\n",
       "<table border=\"1\" class=\"dataframe\">\n",
       "  <thead>\n",
       "    <tr style=\"text-align: right;\">\n",
       "      <th></th>\n",
       "      <th>Course_ID</th>\n",
       "      <th>Num_Subscribers</th>\n",
       "      <th>Course_Title</th>\n",
       "      <th>Price</th>\n",
       "      <th>Num_Review</th>\n",
       "      <th>Num_Lectures</th>\n",
       "      <th>Level</th>\n",
       "      <th>Rating</th>\n",
       "      <th>Content_Duration</th>\n",
       "      <th>Published_Timestamp</th>\n",
       "      <th>...</th>\n",
       "      <th>month</th>\n",
       "      <th>year</th>\n",
       "      <th>month_name</th>\n",
       "      <th>Day</th>\n",
       "      <th>Month</th>\n",
       "      <th>Year</th>\n",
       "      <th>Month_Name</th>\n",
       "      <th>Date</th>\n",
       "      <th>Timestamp</th>\n",
       "      <th>Revenue</th>\n",
       "    </tr>\n",
       "  </thead>\n",
       "  <tbody>\n",
       "    <tr>\n",
       "      <th>0</th>\n",
       "      <td>49798</td>\n",
       "      <td>65576</td>\n",
       "      <td>Bitcoin or How I Learned to Stop Worrying and ...</td>\n",
       "      <td>0</td>\n",
       "      <td>936</td>\n",
       "      <td>24</td>\n",
       "      <td>All Levels</td>\n",
       "      <td>0.56</td>\n",
       "      <td>8.0</td>\n",
       "      <td>2013-04-20 02:25:22+00:00</td>\n",
       "      <td>...</td>\n",
       "      <td>4</td>\n",
       "      <td>2013</td>\n",
       "      <td>April</td>\n",
       "      <td>20</td>\n",
       "      <td>4</td>\n",
       "      <td>2013</td>\n",
       "      <td>April</td>\n",
       "      <td>2013-04-20</td>\n",
       "      <td>02:25:22</td>\n",
       "      <td>0</td>\n",
       "    </tr>\n",
       "  </tbody>\n",
       "</table>\n",
       "<p>1 rows × 24 columns</p>\n",
       "</div>"
      ],
      "text/plain": [
       "   Course_ID  Num_Subscribers  \\\n",
       "0      49798            65576   \n",
       "\n",
       "                                        Course_Title  Price  Num_Review  \\\n",
       "0  Bitcoin or How I Learned to Stop Worrying and ...      0         936   \n",
       "\n",
       "   Num_Lectures       Level  Rating  Content_Duration  \\\n",
       "0            24  All Levels    0.56               8.0   \n",
       "\n",
       "        Published_Timestamp  ... month  year month_name  Day  Month  Year  \\\n",
       "0 2013-04-20 02:25:22+00:00  ...     4  2013      April   20      4  2013   \n",
       "\n",
       "  Month_Name        Date  Timestamp  Revenue  \n",
       "0      April  2013-04-20   02:25:22        0  \n",
       "\n",
       "[1 rows x 24 columns]"
      ]
     },
     "execution_count": 21,
     "metadata": {},
     "output_type": "execute_result"
    }
   ],
   "source": [
    "# Generating total revenue by multiplying number of subcribers by price\n",
    "df[\"Revenue\"] =df[\"Num_Subscribers\"]*df[\"Price\"]\n",
    "df.head(1)\n"
   ]
  },
  {
   "cell_type": "code",
   "execution_count": 23,
   "id": "0ad1afbe",
   "metadata": {},
   "outputs": [
    {
     "data": {
      "text/plain": [
       "<AxesSubplot:xlabel='Year', ylabel='Revenue'>"
      ]
     },
     "execution_count": 23,
     "metadata": {},
     "output_type": "execute_result"
    },
    {
     "data": {
      "image/png": "[encoded data removed]",
      "text/plain": [
       "<Figure size 640x480 with 1 Axes>"
      ]
     },
     "metadata": {},
     "output_type": "display_data"
    }
   ],
   "source": [
    "sns.lineplot(x=\"Year\",y=\"Revenue\", data=df)"
   ]
  },
  {
   "cell_type": "code",
   "execution_count": null,
   "id": "46bb9c17",
   "metadata": {},
   "outputs": [],
   "source": [
    "#The analysis shows that more revenue was generated in 2011."
   ]
  },
  {
   "cell_type": "code",
   "execution_count": 51,
   "id": "a10bf954",
   "metadata": {},
   "outputs": [
    {
     "data": {
      "text/plain": [
       "<bound method Series.reset_index of Year\n",
       "2011     11643420\n",
       "2012     11773470\n",
       "2013     69405820\n",
       "2014    107162385\n",
       "2015    314510395\n",
       "2016    277694340\n",
       "2017     92970175\n",
       "Name: Revenue, dtype: int64>"
      ]
     },
     "execution_count": 51,
     "metadata": {},
     "output_type": "execute_result"
    }
   ],
   "source": [
    "#Analysing revenue over the years\n",
    "ttl_rev=df.groupby(\"Year\")[\"Revenue\"].sum().reset_index\n",
    "ttl_rev"
   ]
  },
  {
   "cell_type": "code",
   "execution_count": 29,
   "id": "e57e120c",
   "metadata": {},
   "outputs": [
    {
     "data": {
      "text/plain": [
       "<bound method Series.reset_index of Year\n",
       "2011     11643420\n",
       "2012     11773470\n",
       "2013     69405820\n",
       "2014    107162385\n",
       "2015    314510395\n",
       "2016    277694340\n",
       "2017     92970175\n",
       "Name: Revenue, dtype: int64>"
      ]
     },
     "execution_count": 29,
     "metadata": {},
     "output_type": "execute_result"
    }
   ],
   "source": [
    "# This shows the revenue was increasing over the years but there was a decrease in 2016 and a noticable drop in revenue in 2017"
   ]
  },
  {
   "cell_type": "code",
   "execution_count": 33,
   "id": "0fde8e68",
   "metadata": {},
   "outputs": [
    {
     "data": {
      "text/plain": [
       "<bound method Series.reset_index of Year\n",
       "2011      310\n",
       "2012     1835\n",
       "2013    10785\n",
       "2014    23800\n",
       "2015    67830\n",
       "2016    84260\n",
       "2017    54220\n",
       "Name: Price, dtype: int64>"
      ]
     },
     "execution_count": 33,
     "metadata": {},
     "output_type": "execute_result"
    }
   ],
   "source": [
    "#Analysing Price over the years\n",
    "p=df.groupby(\"Year\")[\"Price\"].sum().reset_index\n",
    "p"
   ]
  },
  {
   "cell_type": "code",
   "execution_count": null,
   "id": "716eaeb5",
   "metadata": {},
   "outputs": [],
   "source": [
    "# This shows that over the years there have been a content increase in price\n"
   ]
  },
  {
   "cell_type": "code",
   "execution_count": 48,
   "id": "b4351b73",
   "metadata": {},
   "outputs": [
    {
     "data": {
      "text/plain": [
       "Subject\n",
       "Business Finance       103891.952141\n",
       "Graphic Design         127879.019934\n",
       "Musical Instruments     78469.198529\n",
       "Web Development        524590.577722\n",
       "Name: Revenue, dtype: float64"
      ]
     },
     "execution_count": 48,
     "metadata": {},
     "output_type": "execute_result"
    }
   ],
   "source": [
    "#Analysing subject by Revenue\n",
    "average_revenue = df.groupby('Subject')['Revenue'].mean()\n",
    "average_revenue"
   ]
  },
  {
   "cell_type": "code",
   "execution_count": null,
   "id": "50d0323b",
   "metadata": {},
   "outputs": [],
   "source": [
    "#Web development generated the most while Musical instruments the least"
   ]
  },
  {
   "cell_type": "code",
   "execution_count": 50,
   "id": "54b0146b",
   "metadata": {},
   "outputs": [
    {
     "data": {
      "text/plain": [
       "Year  Subject            \n",
       "2011  Web Development         11643420\n",
       "2012  Business Finance          190740\n",
       "      Graphic Design           1329850\n",
       "      Musical Instruments       766405\n",
       "      Web Development          9486475\n",
       "2013  Business Finance         7298950\n",
       "      Graphic Design           3085300\n",
       "      Musical Instruments      7479930\n",
       "      Web Development         51541640\n",
       "2014  Business Finance        35870820\n",
       "      Graphic Design           8364490\n",
       "      Musical Instruments     20899910\n",
       "      Web Development         42027165\n",
       "2015  Business Finance        38702015\n",
       "      Graphic Design          23273795\n",
       "      Musical Instruments     12363235\n",
       "      Web Development        240171350\n",
       "2016  Business Finance        30727750\n",
       "      Graphic Design          23538210\n",
       "      Musical Instruments      7458615\n",
       "      Web Development        215969765\n",
       "2017  Business Finance        10945040\n",
       "      Graphic Design          17391525\n",
       "      Musical Instruments      4390960\n",
       "      Web Development         60242650\n",
       "Name: Revenue, dtype: int64"
      ]
     },
     "execution_count": 50,
     "metadata": {},
     "output_type": "execute_result"
    }
   ],
   "source": [
    "#Analyzing year of published and subject by Revenue\n",
    "revenue_by_year_subject = df.groupby(['Year', 'Subject'])['Revenue'].sum()\n",
    "revenue_by_year_subject"
   ]
  },
  {
   "cell_type": "code",
   "execution_count": null,
   "id": "d653411c",
   "metadata": {},
   "outputs": [],
   "source": [
    "# From the analysis is shows that there was a steady increase in revenue until in 2016 a decrease was noticed and a drop in revenue was recorded in 2017\n"
   ]
  },
  {
   "cell_type": "code",
   "execution_count": 72,
   "id": "b0652976",
   "metadata": {},
   "outputs": [
    {
     "data": {
      "text/plain": [
       "Year  Subject            \n",
       "2011  Web Development          5\n",
       "2012  Business Finance         6\n",
       "      Graphic Design          10\n",
       "      Musical Instruments     10\n",
       "      Web Development         19\n",
       "2013  Business Finance        84\n",
       "      Graphic Design          23\n",
       "      Musical Instruments     39\n",
       "      Web Development         55\n",
       "2014  Business Finance       192\n",
       "      Graphic Design          65\n",
       "      Musical Instruments    120\n",
       "      Web Development        115\n",
       "2015  Business Finance       339\n",
       "      Graphic Design         168\n",
       "      Musical Instruments    171\n",
       "      Web Development        336\n",
       "2016  Business Finance       347\n",
       "      Graphic Design         181\n",
       "      Musical Instruments    228\n",
       "      Web Development        449\n",
       "2017  Business Finance       223\n",
       "      Graphic Design         155\n",
       "      Musical Instruments    112\n",
       "      Web Development        224\n",
       "Name: Course_Title, dtype: int64"
      ]
     },
     "execution_count": 72,
     "metadata": {},
     "output_type": "execute_result"
    }
   ],
   "source": [
    "#Analysing Course Title by Year of Published and Subjects.\n",
    "course_counts_by_year_subject = df.groupby(['Year', 'Subject'])['Course_Title'].count()\n",
    "\n",
    "course_counts_by_year_subject \n",
    "\n",
    "\n"
   ]
  },
  {
   "cell_type": "code",
   "execution_count": null,
   "id": "17a75156",
   "metadata": {},
   "outputs": [],
   "source": [
    "# The analysis shows that in 2017 there was a drop in publication in all the subjects"
   ]
  },
  {
   "cell_type": "markdown",
   "id": "11509407",
   "metadata": {},
   "source": [
    "RECOMMEDATIONS\n",
    "\n",
    "1. From analyzing the data from the reviews by learners, it indicated that the number of reviews where not substantial to analyze the feedback from learners. So, we recommend that in between the course, the learner should be prompted for feedback before they can continue and prompted for another feedback when they are done with the course. The data generated from the reviews will enable the company to know the satisfaction level among learners and the performance of the courses.\n",
    "\n",
    "2. Analysing price and number of subscribers, shows there was no correlation. The price is on a steady increase while the number of subscribers was not. I will recommend that the prices shouldn’t increase until the demand by subscribers increases.\n",
    "\n",
    "3. Analyzing subjects by revenue, shows that there is demand for web development courses. I would recommend that the teachers are encouraged to create and publish more up-to-date lectures on that subject, so it continues to be in demand.\n",
    "\n",
    "4. Comparing the number of course titles by year of published and subject, it was noted in 2017 there that the number of courses published was lower than the previous year and it affected the revenue drastically. I would recommend that more relevant publications should be made more frequently to meet learners’ demands.\n"
   ]
  },
  {
   "cell_type": "markdown",
   "id": "d2670872",
   "metadata": {},
   "source": [
    "\n",
    "\n"
   ]
  },
  {
   "cell_type": "code",
   "execution_count": null,
   "id": "4e14e549",
   "metadata": {},
   "outputs": [],
   "source": []
  },
  {
   "cell_type": "code",
   "execution_count": null,
   "id": "567fe86a",
   "metadata": {},
   "outputs": [],
   "source": []
  }
 ],
 "metadata": {
  "kernelspec": {
   "display_name": "Python 3 (ipykernel)",
   "language": "python",
   "name": "python3"
  },
  "language_info": {
   "codemirror_mode": {
    "name": "ipython",
    "version": 3
   },
   "file_extension": ".py",
   "mimetype": "text/x-python",
   "name": "python",
   "nbconvert_exporter": "python",
   "pygments_lexer": "ipython3",
   "version": "3.9.13"
  }
 },
 "nbformat": 4,
 "nbformat_minor": 5
}
